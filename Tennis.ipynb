{
 "cells": [
  {
   "cell_type": "markdown",
   "metadata": {},
   "source": [
    "# Collaboration and Competition\n",
    "\n",
    "---\n",
    "\n",
    "In this notebook, you will learn how to use the Unity ML-Agents environment for the third project of the [Deep Reinforcement Learning Nanodegree](https://www.udacity.com/course/deep-reinforcement-learning-nanodegree--nd893) program.\n",
    "\n",
    "### 1. Start the Environment\n",
    "\n",
    "We begin by importing the necessary packages.  If the code cell below returns an error, please revisit the project instructions to double-check that you have installed [Unity ML-Agents](https://github.com/Unity-Technologies/ml-agents/blob/master/docs/Installation.md) and [NumPy](http://www.numpy.org/)."
   ]
  },
  {
   "cell_type": "code",
   "execution_count": 1,
   "metadata": {
    "collapsed": true
   },
   "outputs": [],
   "source": [
    "from unityagents import UnityEnvironment\n",
    "import numpy as np"
   ]
  },
  {
   "cell_type": "markdown",
   "metadata": {},
   "source": [
    "Next, we will start the environment!  **_Before running the code cell below_**, change the `file_name` parameter to match the location of the Unity environment that you downloaded.\n",
    "\n",
    "- **Mac**: `\"path/to/Tennis.app\"`\n",
    "- **Windows** (x86): `\"path/to/Tennis_Windows_x86/Tennis.exe\"`\n",
    "- **Windows** (x86_64): `\"path/to/Tennis_Windows_x86_64/Tennis.exe\"`\n",
    "- **Linux** (x86): `\"path/to/Tennis_Linux/Tennis.x86\"`\n",
    "- **Linux** (x86_64): `\"path/to/Tennis_Linux/Tennis.x86_64\"`\n",
    "- **Linux** (x86, headless): `\"path/to/Tennis_Linux_NoVis/Tennis.x86\"`\n",
    "- **Linux** (x86_64, headless): `\"path/to/Tennis_Linux_NoVis/Tennis.x86_64\"`\n",
    "\n",
    "For instance, if you are using a Mac, then you downloaded `Tennis.app`.  If this file is in the same folder as the notebook, then the line below should appear as follows:\n",
    "```\n",
    "env = UnityEnvironment(file_name=\"Tennis.app\")\n",
    "```"
   ]
  },
  {
   "cell_type": "code",
   "execution_count": 2,
   "metadata": {},
   "outputs": [
    {
     "name": "stderr",
     "output_type": "stream",
     "text": [
      "INFO:unityagents:\n",
      "'Academy' started successfully!\n",
      "Unity Academy name: Academy\n",
      "        Number of Brains: 1\n",
      "        Number of External Brains : 1\n",
      "        Lesson number : 0\n",
      "        Reset Parameters :\n",
      "\t\t\n",
      "Unity brain name: TennisBrain\n",
      "        Number of Visual Observations (per agent): 0\n",
      "        Vector Observation space type: continuous\n",
      "        Vector Observation space size (per agent): 8\n",
      "        Number of stacked Vector Observation: 3\n",
      "        Vector Action space type: continuous\n",
      "        Vector Action space size (per agent): 2\n",
      "        Vector Action descriptions: , \n"
     ]
    }
   ],
   "source": [
    "env = UnityEnvironment(file_name=\"c:/AI2-DRL-4/Tennis_Windows_x86_64/Tennis.exe\")"
   ]
  },
  {
   "cell_type": "markdown",
   "metadata": {},
   "source": [
    "Environments contain **_brains_** which are responsible for deciding the actions of their associated agents. Here we check for the first brain available, and set it as the default brain we will be controlling from Python."
   ]
  },
  {
   "cell_type": "code",
   "execution_count": 3,
   "metadata": {
    "collapsed": true
   },
   "outputs": [],
   "source": [
    "# get the default brain\n",
    "brain_name = env.brain_names[0]\n",
    "brain = env.brains[brain_name]"
   ]
  },
  {
   "cell_type": "markdown",
   "metadata": {},
   "source": [
    "### 2. Examine the State and Action Spaces\n",
    "\n",
    "In this environment, two agents control rackets to bounce a ball over a net. If an agent hits the ball over the net, it receives a reward of +0.1.  If an agent lets a ball hit the ground or hits the ball out of bounds, it receives a reward of -0.01.  Thus, the goal of each agent is to keep the ball in play.\n",
    "\n",
    "The observation space consists of 8 variables corresponding to the position and velocity of the ball and racket. Two continuous actions are available, corresponding to movement toward (or away from) the net, and jumping. \n",
    "\n",
    "Run the code cell below to print some information about the environment."
   ]
  },
  {
   "cell_type": "code",
   "execution_count": 4,
   "metadata": {},
   "outputs": [
    {
     "name": "stdout",
     "output_type": "stream",
     "text": [
      "Number of agents: 2\n",
      "Size of each action: 2\n",
      "There are 2 agents. Each observes a state with length: 24\n",
      "The state for the first agent looks like: [ 0.          0.          0.          0.          0.          0.\n",
      "  0.          0.          0.          0.          0.          0.\n",
      "  0.          0.          0.          0.         -6.65278625 -1.5\n",
      " -0.          0.          6.83172083  6.         -0.          0.        ]\n"
     ]
    }
   ],
   "source": [
    "# reset the environment\n",
    "env_info = env.reset(train_mode=True)[brain_name]\n",
    "\n",
    "# number of agents \n",
    "num_agents = len(env_info.agents)\n",
    "print('Number of agents:', num_agents)\n",
    "\n",
    "# size of each action\n",
    "action_size = brain.vector_action_space_size\n",
    "print('Size of each action:', action_size)\n",
    "\n",
    "# examine the state space \n",
    "states = env_info.vector_observations\n",
    "state_size = states.shape[1]\n",
    "print('There are {} agents. Each observes a state with length: {}'.format(states.shape[0], state_size))\n",
    "print('The state for the first agent looks like:', states[0])"
   ]
  },
  {
   "cell_type": "markdown",
   "metadata": {},
   "source": [
    "### 3. Take Random Actions in the Environment\n",
    "\n",
    "In the next code cell, you will learn how to use the Python API to control the agents and receive feedback from the environment.\n",
    "\n",
    "Once this cell is executed, you will watch the agents' performance, if they select actions at random with each time step.  A window should pop up that allows you to observe the agents.\n",
    "\n",
    "Of course, as part of the project, you'll have to change the code so that the agents are able to use their experiences to gradually choose better actions when interacting with the environment!"
   ]
  },
  {
   "cell_type": "code",
   "execution_count": null,
   "metadata": {
    "collapsed": true
   },
   "outputs": [],
   "source": [
    "for i in range(1, 6):                                      # play game for 5 episodes\n",
    "    env_info = env.reset(train_mode=False)[brain_name]     # reset the environment    \n",
    "    states = env_info.vector_observations                  # get the current state (for each agent)\n",
    "    scores = np.zeros(num_agents)                          # initialize the score (for each agent)\n",
    "    while True:\n",
    "        actions = np.random.randn(num_agents, action_size) # select an action (for each agent)\n",
    "        actions = np.clip(actions, -1, 1)                  # all actions between -1 and 1\n",
    "        env_info = env.step(actions)[brain_name]           # send all actions to tne environment\n",
    "        next_states = env_info.vector_observations         # get next state (for each agent)\n",
    "        rewards = env_info.rewards                         # get reward (for each agent)\n",
    "        dones = env_info.local_done                        # see if episode finished\n",
    "        scores += env_info.rewards                         # update the score (for each agent)\n",
    "        states = next_states                               # roll over states to next time step\n",
    "        if np.any(dones):                                  # exit loop if episode finished\n",
    "            break\n",
    "    print('Score (max over agents) from episode {}: {}'.format(i, np.max(scores)))"
   ]
  },
  {
   "cell_type": "markdown",
   "metadata": {},
   "source": [
    "When finished, you can close the environment."
   ]
  },
  {
   "cell_type": "code",
   "execution_count": null,
   "metadata": {
    "collapsed": true
   },
   "outputs": [],
   "source": [
    "env.close()"
   ]
  },
  {
   "cell_type": "markdown",
   "metadata": {},
   "source": [
    "### 4. It's Your Turn!\n",
    "\n",
    "Now it's your turn to train your own agent to solve the environment!  When training the environment, set `train_mode=True`, so that the line for resetting the environment looks like the following:\n",
    "```python\n",
    "env_info = env.reset(train_mode=True)[brain_name]\n",
    "```"
   ]
  },
  {
   "cell_type": "code",
   "execution_count": 5,
   "metadata": {},
   "outputs": [
    {
     "name": "stdout",
     "output_type": "stream",
     "text": [
      "device = cuda:0\n"
     ]
    }
   ],
   "source": [
    "import random\n",
    "import torch\n",
    "import numpy as np\n",
    "from collections import deque\n",
    "import matplotlib.pyplot as plt\n",
    "%matplotlib inline\n",
    "\n",
    "from ddpg_agent import Agent"
   ]
  },
  {
   "cell_type": "code",
   "execution_count": 6,
   "metadata": {
    "collapsed": true
   },
   "outputs": [],
   "source": [
    "# Get parameters from the environment and instantiate Agents.\n",
    "\n",
    "states = env_info.vector_observations\n",
    "state_size = states.shape[1]\n",
    "action_size = brain.vector_action_space_size\n",
    "\n",
    "agent_0 = Agent(state_size, action_size, random_seed=1)\n",
    "\n",
    "agent_1 = Agent(state_size, action_size, random_seed=1)\n"
   ]
  },
  {
   "cell_type": "code",
   "execution_count": 9,
   "metadata": {},
   "outputs": [
    {
     "name": "stdout",
     "output_type": "stream",
     "text": [
      "Episode 100\tAverage Score Last 100 Episodes: 0.00000\tMax Score Last Episode: 0.00\n",
      "Episode 200\tAverage Score Last 100 Episodes: 0.00000\tMax Score Last Episode: 0.00\n",
      "Episode 300\tAverage Score Last 100 Episodes: 0.00000\tMax Score Last Episode: 0.00\n",
      "Episode 400\tAverage Score Last 100 Episodes: 0.00000\tMax Score Last Episode: 0.00\n",
      "Episode 500\tAverage Score Last 100 Episodes: 0.00470\tMax Score Last Episode: 0.00\n",
      "Episode 600\tAverage Score Last 100 Episodes: 0.00590\tMax Score Last Episode: 0.00\n",
      "Episode 700\tAverage Score Last 100 Episodes: 0.01440\tMax Score Last Episode: 0.00\n",
      "Episode 800\tAverage Score Last 100 Episodes: 0.00650\tMax Score Last Episode: 0.00\n",
      "Episode 900\tAverage Score Last 100 Episodes: 0.02370\tMax Score Last Episode: 0.09\n",
      "Episode 1000\tAverage Score Last 100 Episodes: 0.02890\tMax Score Last Episode: 0.10\n",
      "Episode 1100\tAverage Score Last 100 Episodes: 0.03900\tMax Score Last Episode: 0.10\n",
      "Episode 1200\tAverage Score Last 100 Episodes: 0.01900\tMax Score Last Episode: 0.00\n",
      "Episode 1300\tAverage Score Last 100 Episodes: 0.04300\tMax Score Last Episode: 0.10\n",
      "Episode 1400\tAverage Score Last 100 Episodes: 0.04840\tMax Score Last Episode: 0.00\n",
      "Episode 1500\tAverage Score Last 100 Episodes: 0.02950\tMax Score Last Episode: 0.00\n",
      "Episode 1600\tAverage Score Last 100 Episodes: 0.01600\tMax Score Last Episode: 0.00\n",
      "Episode 1700\tAverage Score Last 100 Episodes: 0.05800\tMax Score Last Episode: 0.10\n",
      "Episode 1800\tAverage Score Last 100 Episodes: 0.10180\tMax Score Last Episode: 0.00\n",
      "Episode 1900\tAverage Score Last 100 Episodes: 0.12290\tMax Score Last Episode: 0.20\n",
      "Episode 2000\tAverage Score Last 100 Episodes: 0.13900\tMax Score Last Episode: 0.20\n",
      "Episode 2100\tAverage Score Last 100 Episodes: 0.13680\tMax Score Last Episode: 0.10\n",
      "Episode 2200\tAverage Score Last 100 Episodes: 0.14090\tMax Score Last Episode: 0.09\n",
      "Episode 2300\tAverage Score Last 100 Episodes: 0.14350\tMax Score Last Episode: 0.20\n",
      "Episode 2400\tAverage Score Last 100 Episodes: 0.14500\tMax Score Last Episode: 0.10\n",
      "Episode 2500\tAverage Score Last 100 Episodes: 0.16070\tMax Score Last Episode: 0.30\n",
      "Episode 2600\tAverage Score Last 100 Episodes: 0.14510\tMax Score Last Episode: 0.20\n",
      "Episode 2700\tAverage Score Last 100 Episodes: 0.13490\tMax Score Last Episode: 0.10\n",
      "Episode 2800\tAverage Score Last 100 Episodes: 0.12840\tMax Score Last Episode: 0.10\n",
      "Episode 2900\tAverage Score Last 100 Episodes: 0.14680\tMax Score Last Episode: 0.10\n",
      "Episode 3000\tAverage Score Last 100 Episodes: 0.14270\tMax Score Last Episode: 0.10\n",
      "Episode 3100\tAverage Score Last 100 Episodes: 0.13590\tMax Score Last Episode: 0.10\n",
      "Episode 3200\tAverage Score Last 100 Episodes: 0.12710\tMax Score Last Episode: 0.00\n",
      "Episode 3300\tAverage Score Last 100 Episodes: 0.12630\tMax Score Last Episode: 0.09\n",
      "Episode 3400\tAverage Score Last 100 Episodes: 0.14120\tMax Score Last Episode: 0.00\n",
      "Episode 3500\tAverage Score Last 100 Episodes: 0.12270\tMax Score Last Episode: 0.10\n",
      "Episode 3600\tAverage Score Last 100 Episodes: 0.10340\tMax Score Last Episode: 0.10\n",
      "Episode 3700\tAverage Score Last 100 Episodes: 0.08820\tMax Score Last Episode: 0.09\n",
      "Episode 3800\tAverage Score Last 100 Episodes: 0.13950\tMax Score Last Episode: 0.10\n",
      "Episode 3900\tAverage Score Last 100 Episodes: 0.16540\tMax Score Last Episode: 0.09\n",
      "Episode 4000\tAverage Score Last 100 Episodes: 0.16510\tMax Score Last Episode: 0.09\n",
      "Episode 4100\tAverage Score Last 100 Episodes: 0.14650\tMax Score Last Episode: 0.20\n",
      "Episode 4200\tAverage Score Last 100 Episodes: 0.14010\tMax Score Last Episode: 0.20\n",
      "Episode 4300\tAverage Score Last 100 Episodes: 0.08920\tMax Score Last Episode: 0.00\n",
      "Episode 4400\tAverage Score Last 100 Episodes: 0.05970\tMax Score Last Episode: 0.10\n",
      "Episode 4500\tAverage Score Last 100 Episodes: 0.05510\tMax Score Last Episode: 0.19\n",
      "Episode 4600\tAverage Score Last 100 Episodes: 0.05610\tMax Score Last Episode: 0.10\n",
      "Episode 4700\tAverage Score Last 100 Episodes: 0.11250\tMax Score Last Episode: 0.00\n",
      "Episode 4800\tAverage Score Last 100 Episodes: 0.07420\tMax Score Last Episode: 0.10\n",
      "Episode 4900\tAverage Score Last 100 Episodes: 0.09030\tMax Score Last Episode: 0.09\n",
      "Episode 5000\tAverage Score Last 100 Episodes: 0.09700\tMax Score Last Episode: 0.10\n",
      "Episode 5100\tAverage Score Last 100 Episodes: 0.06790\tMax Score Last Episode: 0.10\n",
      "Episode 5200\tAverage Score Last 100 Episodes: 0.11770\tMax Score Last Episode: 0.10\n",
      "Episode 5300\tAverage Score Last 100 Episodes: 0.06970\tMax Score Last Episode: 0.00\n",
      "Episode 5400\tAverage Score Last 100 Episodes: 0.08050\tMax Score Last Episode: 0.09\n",
      "Episode 5500\tAverage Score Last 100 Episodes: 0.09430\tMax Score Last Episode: 0.09\n",
      "Episode 5600\tAverage Score Last 100 Episodes: 0.12990\tMax Score Last Episode: 0.10\n",
      "Episode 5700\tAverage Score Last 100 Episodes: 0.15310\tMax Score Last Episode: 0.10\n",
      "Episode 5800\tAverage Score Last 100 Episodes: 0.11050\tMax Score Last Episode: 0.10\n",
      "Episode 5900\tAverage Score Last 100 Episodes: 0.14660\tMax Score Last Episode: 0.19\n",
      "Episode 6000\tAverage Score Last 100 Episodes: 0.20060\tMax Score Last Episode: 0.10\n",
      "Episode 6100\tAverage Score Last 100 Episodes: 0.24160\tMax Score Last Episode: 0.10\n",
      "Episode 6200\tAverage Score Last 100 Episodes: 0.23540\tMax Score Last Episode: 0.20\n",
      "Episode 6300\tAverage Score Last 100 Episodes: 0.19130\tMax Score Last Episode: 0.29\n",
      "Episode 6400\tAverage Score Last 100 Episodes: 0.22850\tMax Score Last Episode: 0.20\n",
      "Episode 6500\tAverage Score Last 100 Episodes: 0.48220\tMax Score Last Episode: 0.10\n",
      "Episode 6502\tAverage Score Last 100 Episodes: 0.50820\tMax Score Last Episode: 2.50\n",
      "Environment solved in 6402 episodes!\tAverage Score: 0.50820\n"
     ]
    }
   ],
   "source": [
    "def ddpg(n_episodes=8000, print_every=100):\n",
    "    \n",
    "    \"\"\"  \n",
    "    Params\n",
    "    ======\n",
    "        n_episodes (int): maximum number of training episodes\n",
    "        print_every (int): how often to print status and save model parameters\n",
    "        \n",
    "     \"\"\"\n",
    "    \n",
    "    # list containing scores from each episode\n",
    "    scores_ddpg = []\n",
    "    # scores \"window\"\n",
    "    deque_scores = deque(maxlen=100)\n",
    "                  \n",
    "    for i_episode in range(1, n_episodes+1):\n",
    "        env_info = env.reset(train_mode=True)[brain_name]  \n",
    "        states = env_info.vector_observations \n",
    "        scores = np.zeros(num_agents)\n",
    "        while True:\n",
    "            \n",
    "            # Reset agent noise\n",
    "            agent_0.reset() \n",
    "            agent_1.reset() \n",
    "            \n",
    "            # Get actions for each agent\n",
    "            actions = [agent_0.act(states[0]), agent_1.act(states[1])]\n",
    "            \n",
    "            # Get environment information         \n",
    "            env_info = env.step(actions)[brain_name]\n",
    "            next_states = env_info.vector_observations   \n",
    "            rewards = env_info.rewards                \n",
    "            dones = env_info.local_done \n",
    "            \n",
    "            # Add environment info to replay buffer (memory), and do learning if memory > batch size\n",
    "            agent_0.step(states[0], actions[0], rewards[0], next_states[0], dones[0])\n",
    "            agent_1.step(states[1], actions[1], rewards[1], next_states[1], dones[1])\n",
    "            \n",
    "            states = next_states\n",
    "            scores += rewards\n",
    "            if True in dones:\n",
    "                break \n",
    "        \n",
    "        # Add scores to scores window and scores list\n",
    "        deque_scores.append(np.amax(scores))\n",
    "        scores_ddpg.append(np.amax(scores))\n",
    "        \n",
    "        # Make list of agents, print pertinent information and save model parameters\n",
    "        \n",
    "        agents = [agent_0, agent_1]\n",
    "        \n",
    "        print('\\rEpisode {}\\tAverage Score Last 100 Episodes: {:.5f}\\tMax Score Last Episode: {:.2f}'.format(i_episode, np.mean(deque_scores), np.amax(scores)), end=\"\")\n",
    "                \n",
    "        if i_episode % 100 == 0:\n",
    "            print('\\rEpisode {}\\tAverage Score Last 100 Episodes: {:.5f}'.format(i_episode, np.mean(deque_scores)))\n",
    "            for i in range(num_agents):\n",
    "                torch.save(agents[i].actor_local.state_dict(), 'saved/tennis-actor-agent%d.pth' %i)\n",
    "                torch.save(agents[i].critic_local.state_dict(), 'saved/tennis-critic-agent%d.pth' %i)\n",
    "\n",
    "                        \n",
    "        if np.mean(deque_scores) >= 0.5:\n",
    "            print('\\nEnvironment solved in {:d} episodes!\\tAverage Score: {:.5f}'.format(i_episode-100, np.mean(deque_scores)))\n",
    "            for i in range(num_agents):\n",
    "                torch.save(agents[i].actor_local.state_dict(), 'saved/tennis-solved-actor-agent%d.pth' %i )\n",
    "                torch.save(agents[i].critic_local.state_dict(), 'saved/tennis-solved-critic-agent%d.pth' %i)\n",
    "            break\n",
    "\n",
    "    return scores_ddpg\n",
    "\n",
    "scores = ddpg()"
   ]
  },
  {
   "cell_type": "code",
   "execution_count": 10,
   "metadata": {},
   "outputs": [
    {
     "data": {
      "image/png": "[encoded data removed]",
      "text/plain": [
       "<Figure size 432x288 with 1 Axes>"
      ]
     },
     "metadata": {
      "needs_background": "light"
     },
     "output_type": "display_data"
    }
   ],
   "source": [
    "# Plot scores vs episodes\n",
    "\n",
    "fig = plt.figure()\n",
    "ax = fig.add_subplot(111)\n",
    "plt.plot(np.arange(1, len(scores)+1), scores)\n",
    "plt.ylabel('Score')\n",
    "plt.xlabel('Episode #')\n",
    "plt.show()"
   ]
  },
  {
   "cell_type": "code",
   "execution_count": null,
   "metadata": {
    "collapsed": true
   },
   "outputs": [],
   "source": []
  }
 ],
 "metadata": {
  "kernelspec": {
   "display_name": "Python 3",
   "language": "python",
   "name": "python3"
  },
  "language_info": {
   "codemirror_mode": {
    "name": "ipython",
    "version": 3
   },
   "file_extension": ".py",
   "mimetype": "text/x-python",
   "name": "python",
   "nbconvert_exporter": "python",
   "pygments_lexer": "ipython3",
   "version": "3.6.3"
  }
 },
 "nbformat": 4,
 "nbformat_minor": 2
}
